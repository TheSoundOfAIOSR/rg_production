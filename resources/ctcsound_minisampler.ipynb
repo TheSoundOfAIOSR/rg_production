{
 "cells": [
  {
   "cell_type": "code",
   "execution_count": 83,
   "id": "going-reaction",
   "metadata": {
    "scrolled": true
   },
   "outputs": [],
   "source": [
    "import ctcsound\n",
    "import os\n",
    "import librosa as l\n",
    "import numpy as np\n",
    "cs = ctcsound.Csound()"
   ]
  },
  {
   "cell_type": "code",
   "execution_count": 84,
   "id": "personalized-substance",
   "metadata": {},
   "outputs": [
    {
     "data": {
      "text/plain": [
       "array([ 0.0000000e+00, -2.1776400e-16, -2.7152922e-15, ...,\n",
       "        3.0503592e-05,  2.5137415e-05,  1.8830691e-05], dtype=float32)"
      ]
     },
     "execution_count": 84,
     "metadata": {},
     "output_type": "execute_result"
    }
   ],
   "source": [
    "y, sr = l.load(\"e2.wav\",sr=None)\n",
    "\n",
    "\n",
    "csd = '''\n",
    "<CsoundSynthesizer>\n",
    "\n",
    "<CsOptions>\n",
    "  -d -odac1\n",
    "</CsOptions>\n",
    "\n",
    "<CsInstruments>\n",
    "sr = 44100\n",
    "ksmps = 32\n",
    "nchnls = 2\n",
    "0dbfs = 1.0\n",
    "\n",
    "  giSamp ftgen 1, 0, 0, 1, \"e2.wav\", 0, 0, 1\n",
    "\n",
    "  instr 1 ; Sampler\n",
    "  \n",
    "  Sname = \"e2.wav\" ;SAMPLE PATH SHOULD GO IN HERE\n",
    "  \n",
    "  inchs = filenchnls(Sname)\n",
    "\n",
    "\n",
    "  aOut diskin2 Sname, 1\n",
    "\n",
    "  outs aOut,aOut\n",
    "\n",
    "  endin\n",
    "  \n",
    "  instr 2 ; Table based sampler\n",
    "  \n",
    "  ilength = filelen(\"e2.wav\")\n",
    "  isr = filesr(\"e2.wav\")\n",
    "  isize = ilength * isr\n",
    "  ;isam ftgen 0, 0, 0, 1, \"e2.wav\", 0, 0, 1\n",
    "  andx =  phasor(1/p3) * isize\n",
    "  aL table3 andx, giSamp, 0\n",
    "  \n",
    "  outs aL, aL*0\n",
    "  \n",
    "  endin\n",
    "\n",
    "</CsInstruments>\n",
    "\n",
    "<CsScore>\n",
    "\n",
    "f 0 3600    ; 1 hour long empty score  to keep Csound running while waiting for notes\n",
    "\n",
    "</CsScore>\n",
    "\n",
    "</CsoundSynthesizer>\n",
    "\n",
    "\n",
    "'''\n",
    "cs.compileCsdText(csd)\n",
    "cs.start()\n",
    "y"
   ]
  },
  {
   "cell_type": "code",
   "execution_count": 85,
   "id": "collective-mobility",
   "metadata": {},
   "outputs": [],
   "source": [
    "#this starts the performance thread\n",
    "\n",
    "pt = ctcsound.CsoundPerformanceThread(cs.csound())\n",
    "pt.play()\n"
   ]
  },
  {
   "cell_type": "code",
   "execution_count": 94,
   "id": "loaded-width",
   "metadata": {},
   "outputs": [],
   "source": [
    "cs.tableCopyIn(1,y)"
   ]
  },
  {
   "cell_type": "code",
   "execution_count": 95,
   "id": "aquatic-receipt",
   "metadata": {},
   "outputs": [
    {
     "data": {
      "text/plain": [
       "0"
      ]
     },
     "execution_count": 95,
     "metadata": {},
     "output_type": "execute_result"
    }
   ],
   "source": [
    "sco = \"i 2 0 4.5\"\n",
    "cs.readScore(sco) "
   ]
  },
  {
   "cell_type": "code",
   "execution_count": 82,
   "id": "colonial-irish",
   "metadata": {},
   "outputs": [],
   "source": [
    "#this executes all the required cleanup for Csound\n",
    "pt.stop()\n",
    "pt.join()\n",
    "cs.cleanup()\n",
    "cs.reset()"
   ]
  },
  {
   "cell_type": "code",
   "execution_count": null,
   "id": "virtual-perth",
   "metadata": {},
   "outputs": [],
   "source": []
  }
 ],
 "metadata": {
  "kernelspec": {
   "display_name": "Python Conda",
   "language": "python",
   "name": "base"
  },
  "language_info": {
   "codemirror_mode": {
    "name": "ipython",
    "version": 3
   },
   "file_extension": ".py",
   "mimetype": "text/x-python",
   "name": "python",
   "nbconvert_exporter": "python",
   "pygments_lexer": "ipython3",
   "version": "3.8.5"
  }
 },
 "nbformat": 4,
 "nbformat_minor": 5
}
